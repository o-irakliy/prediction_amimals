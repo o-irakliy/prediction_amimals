{
 "cells": [
  {
   "cell_type": "code",
   "execution_count": 117,
   "id": "46ddd136",
   "metadata": {},
   "outputs": [],
   "source": [
    "# Мы собрали побольше данных о котиках и собачках, и готовы обучить нашего робота их классифицировать! \n",
    "# Скачайте тренировочный датасэт и  обучите на нём Decision Tree. \n",
    "# После этого скачайте датасэт из задания и предскажите какие наблюдения к кому относятся. \n",
    "# Введите число собачек в вашем датасэте.\n",
    "\n",
    "# В задании допускается определённая погрешность."
   ]
  },
  {
   "cell_type": "code",
   "execution_count": 131,
   "id": "5d3f78fd",
   "metadata": {},
   "outputs": [],
   "source": [
    "from sklearn import tree\n",
    "import pandas as pd \n",
    "import numpy as np\n",
    "import seaborn as sns \n",
    "import matplotlib.pyplot as plt\n",
    "%matplotlib inline"
   ]
  },
  {
   "cell_type": "code",
   "execution_count": 132,
   "id": "0972ecdf",
   "metadata": {},
   "outputs": [],
   "source": [
    "from IPython.display import SVG\n",
    "from graphviz import Source\n",
    "from IPython.display import display"
   ]
  },
  {
   "cell_type": "code",
   "execution_count": 133,
   "id": "03006669",
   "metadata": {},
   "outputs": [
    {
     "data": {
      "text/html": [
       "<style>svg{wethd:50% !important;hight:50% !important}<\\style>"
      ],
      "text/plain": [
       "<IPython.core.display.HTML object>"
      ]
     },
     "execution_count": 133,
     "metadata": {},
     "output_type": "execute_result"
    }
   ],
   "source": [
    "from IPython.display import HTML\n",
    "style = '<style>svg{wethd:50% !important;hight:50% !important}<\\style>'\n",
    "HTML(style)"
   ]
  },
  {
   "cell_type": "code",
   "execution_count": 134,
   "id": "bbf1f4c4",
   "metadata": {},
   "outputs": [],
   "source": [
    "from sklearn.model_selection import train_test_split\n",
    "from sklearn.model_selection import cross_val_score"
   ]
  },
  {
   "cell_type": "code",
   "execution_count": 135,
   "id": "1a36e302",
   "metadata": {},
   "outputs": [],
   "source": [
    "train_dogs_and_cats = pd.read_csv('/carpov/ml_find_dogs/dogs_n_cats.csv')\n",
    "test_dogs_and_cats = pd.read_json('/carpov/ml_find_dogs/dataset_209691_15 (1).txt')"
   ]
  },
  {
   "cell_type": "code",
   "execution_count": 136,
   "id": "26282dde",
   "metadata": {},
   "outputs": [],
   "source": [
    "X_train = train_dogs_and_cats[['Длина', 'Высота', 'Шерстист', 'Гавкает']]\n",
    "y_train = train_dogs_and_cats.Вид"
   ]
  },
  {
   "cell_type": "code",
   "execution_count": 137,
   "id": "71a931e7",
   "metadata": {},
   "outputs": [],
   "source": [
    "X_test = test_dogs_and_cats[['Длина', 'Высота', 'Шерстист', 'Гавкает']]\n",
    "y_test = test_dogs_and_cats.drop(['Длина', 'Высота', 'Шерстист', 'Гавкает'], axis=1)"
   ]
  },
  {
   "cell_type": "code",
   "execution_count": 138,
   "id": "740378a0",
   "metadata": {},
   "outputs": [],
   "source": [
    "clf = tree.DecisionTreeClassifier(criterion='entropy')\n",
    "clf.fit(X_train, y_train)\n",
    "pred = clf.predict(X_test)"
   ]
  },
  {
   "cell_type": "code",
   "execution_count": 139,
   "id": "ee11d2f3",
   "metadata": {},
   "outputs": [
    {
     "name": "stdout",
     "output_type": "stream",
     "text": [
      "50\n"
     ]
    }
   ],
   "source": [
    "count = 0\n",
    "for i in pred:\n",
    "    if i == 'собачка':\n",
    "        count += 1\n",
    "print(count)"
   ]
  },
  {
   "cell_type": "code",
   "execution_count": null,
   "id": "8bc6548c",
   "metadata": {},
   "outputs": [],
   "source": []
  },
  {
   "cell_type": "code",
   "execution_count": null,
   "id": "4d209a03",
   "metadata": {},
   "outputs": [],
   "source": []
  },
  {
   "cell_type": "code",
   "execution_count": null,
   "id": "4b3a023b",
   "metadata": {},
   "outputs": [],
   "source": []
  }
 ],
 "metadata": {
  "kernelspec": {
   "display_name": "Python 3 (ipykernel)",
   "language": "python",
   "name": "python3"
  },
  "language_info": {
   "codemirror_mode": {
    "name": "ipython",
    "version": 3
   },
   "file_extension": ".py",
   "mimetype": "text/x-python",
   "name": "python",
   "nbconvert_exporter": "python",
   "pygments_lexer": "ipython3",
   "version": "3.10.7"
  }
 },
 "nbformat": 4,
 "nbformat_minor": 5
}
